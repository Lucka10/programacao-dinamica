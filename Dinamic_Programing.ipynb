{
 "cells": [
  {
   "attachments": {},
   "cell_type": "markdown",
   "metadata": {},
   "source": [
    "Fibonacci Recursivo Simples"
   ]
  },
  {
   "cell_type": "code",
   "execution_count": 19,
   "metadata": {},
   "outputs": [],
   "source": [
    "def Fibonacci(n):\n",
    "    if n < 3:\n",
    "        return 1\n",
    "    return Fibonacci(n-1) + Fibonacci(n-2)"
   ]
  },
  {
   "attachments": {},
   "cell_type": "markdown",
   "metadata": {},
   "source": [
    "#Fibonacci Versão Dinamica <br>\n",
    "source:https://pt.wikipedia.org/wiki/Programa%C3%A7%C3%A3o_din%C3%A2mica#Exemplo_1:_Sequ%C3%AAncia_de_Fibonacci"
   ]
  },
  {
   "cell_type": "code",
   "execution_count": 33,
   "metadata": {},
   "outputs": [],
   "source": [
    "def Fibonacci_Dinamico_wikipedia(n):\n",
    "    F = [0,1,1] + [-1]*(n-2)\n",
    "    return fibd(n,F)\n",
    "\n",
    "\n",
    "def fibd(n,F: list):\n",
    "    if F[n] > 0:\n",
    "        return F[n]\n",
    "    F[n] = fibd(n-1,F) + fibd(n-2,F)\n",
    "    return F[n]\n"
   ]
  },
  {
   "attachments": {},
   "cell_type": "markdown",
   "metadata": {},
   "source": [
    "#Fibonacci Dinamico, menos uso de memoria."
   ]
  },
  {
   "cell_type": "code",
   "execution_count": 49,
   "metadata": {},
   "outputs": [],
   "source": [
    "def Fibonacci_Dinamico(n):\n",
    "    if n < 3:\n",
    "        return 1\n",
    "    F = [1,1,0]\n",
    "    for i in range(2,n):\n",
    "        F[2] = F[0] + F[1]\n",
    "        F[0] = F[1]\n",
    "        F[1] = F[2]\n",
    "    return F[2]"
   ]
  },
  {
   "cell_type": "code",
   "execution_count": 54,
   "metadata": {},
   "outputs": [
    {
     "name": "stdout",
     "output_type": "stream",
     "text": [
      "11.369334400000298\n"
     ]
    }
   ],
   "source": [
    "import time\n",
    "\n",
    "t1 = time.perf_counter()\n",
    "Fibonacci(40)\n",
    "t2 = time.perf_counter()\n",
    "print(t2-t1)"
   ]
  },
  {
   "cell_type": "code",
   "execution_count": 59,
   "metadata": {},
   "outputs": [
    {
     "name": "stdout",
     "output_type": "stream",
     "text": [
      "7.97999996393628e-05\n"
     ]
    }
   ],
   "source": [
    "t1 = time.perf_counter()\n",
    "Fibonacci_Dinamico(30)\n",
    "t2 = time.perf_counter()\n",
    "print(t2-t1)"
   ]
  },
  {
   "cell_type": "code",
   "execution_count": 55,
   "metadata": {},
   "outputs": [],
   "source": [
    "import numpy as np\n",
    "\n",
    "def Maior_subsequencia_Dinamico(s1 : str, s2 : str):\n",
    "    M = np.zeros((len(s1)+1,len(s2)+1))\n",
    "    for i in range(len(s1)):\n",
    "        for j in range(len(s2)):\n",
    "            if s1[i] == s2[j]:\n",
    "                M[i+1][j+1] = M[i][j] + 1\n",
    "            else: \n",
    "                M[i+1][j+1] = max(M[i+1][j],M[i][j+1])\n",
    "    return M\n"
   ]
  },
  {
   "cell_type": "code",
   "execution_count": 57,
   "metadata": {},
   "outputs": [
    {
     "data": {
      "text/plain": [
       "array([[0., 0., 0., 0., 0., 0., 0., 0., 0., 0., 0., 0., 0.],\n",
       "       [0., 0., 1., 1., 1., 1., 1., 1., 1., 1., 1., 1., 1.],\n",
       "       [0., 0., 1., 1., 2., 2., 2., 2., 2., 2., 2., 2., 2.],\n",
       "       [0., 0., 1., 1., 2., 2., 2., 3., 3., 3., 3., 3., 3.],\n",
       "       [0., 0., 1., 1., 2., 2., 2., 3., 4., 4., 4., 4., 4.],\n",
       "       [0., 1., 1., 2., 2., 2., 3., 3., 4., 4., 4., 4., 5.],\n",
       "       [0., 1., 2., 2., 2., 2., 3., 4., 4., 4., 5., 5., 5.],\n",
       "       [0., 1., 2., 2., 3., 3., 3., 4., 4., 5., 5., 5., 5.],\n",
       "       [0., 1., 2., 3., 3., 3., 4., 4., 4., 5., 5., 5., 6.],\n",
       "       [0., 1., 2., 3., 3., 3., 4., 5., 5., 5., 6., 6., 6.],\n",
       "       [0., 1., 2., 3., 4., 4., 4., 5., 5., 6., 6., 6., 6.]])"
      ]
     },
     "execution_count": 57,
     "metadata": {},
     "output_type": "execute_result"
    }
   ],
   "source": [
    "Maior_subsequencia_Dinamico('xyxxzxyzxy','zxzyyzxxyxxz')"
   ]
  },
  {
   "cell_type": "code",
   "execution_count": 117,
   "metadata": {},
   "outputs": [],
   "source": [
    "def Custo_Matrix_Produto(n: list):\n",
    "    C = np.zeros((len(n)-1,len(n)-1))\n",
    "    for d in range(1,len(n)-2):\n",
    "        for i in range(len(n)-1-d):\n",
    "            j = i + d\n",
    "            print(f'{i},{j}')\n",
    "            C[i,j] = float('inf')\n",
    "            for k in range(i+1,j):\n",
    "                \n",
    "                C[i,j] = min(C[i,j],C[i,k-1] +  C[k,j] + n[i]*n[k]*n[j+1])\n",
    "                print(f'{i+1},{j}',C[i,k-1] ,  C[k,j] , n[i]*n[k]*n[j+1])\n",
    "    return C"
   ]
  },
  {
   "cell_type": "code",
   "execution_count": 118,
   "metadata": {},
   "outputs": [
    {
     "ename": "UnboundLocalError",
     "evalue": "local variable 'j' referenced before assignment",
     "output_type": "error",
     "traceback": [
      "\u001b[1;31m---------------------------------------------------------------------------\u001b[0m",
      "\u001b[1;31mUnboundLocalError\u001b[0m                         Traceback (most recent call last)",
      "\u001b[1;32md:\\lucae\\Documents\\UFT\\CCOMP\\Projeto e Analíse de Algoritmos\\Algoritmos\\Dinamic_Programing.ipynb Cell 12\u001b[0m in \u001b[0;36m<cell line: 1>\u001b[1;34m()\u001b[0m\n\u001b[1;32m----> <a href='vscode-notebook-cell:/d%3A/lucae/Documents/UFT/CCOMP/Projeto%20e%20Anal%C3%ADse%20de%20Algoritmos/Algoritmos/Dinamic_Programing.ipynb#X34sZmlsZQ%3D%3D?line=0'>1</a>\u001b[0m Custo_Matrix_Produto((\u001b[39m5\u001b[39;49m,\u001b[39m10\u001b[39;49m,\u001b[39m4\u001b[39;49m,\u001b[39m6\u001b[39;49m,\u001b[39m10\u001b[39;49m,\u001b[39m2\u001b[39;49m))\n",
      "\u001b[1;32md:\\lucae\\Documents\\UFT\\CCOMP\\Projeto e Analíse de Algoritmos\\Algoritmos\\Dinamic_Programing.ipynb Cell 12\u001b[0m in \u001b[0;36mCusto_Matrix_Produto\u001b[1;34m(n)\u001b[0m\n\u001b[0;32m      <a href='vscode-notebook-cell:/d%3A/lucae/Documents/UFT/CCOMP/Projeto%20e%20Anal%C3%ADse%20de%20Algoritmos/Algoritmos/Dinamic_Programing.ipynb#X34sZmlsZQ%3D%3D?line=2'>3</a>\u001b[0m \u001b[39mfor\u001b[39;00m d \u001b[39min\u001b[39;00m \u001b[39mrange\u001b[39m(\u001b[39m1\u001b[39m,\u001b[39mlen\u001b[39m(n)\u001b[39m-\u001b[39m\u001b[39m2\u001b[39m):\n\u001b[0;32m      <a href='vscode-notebook-cell:/d%3A/lucae/Documents/UFT/CCOMP/Projeto%20e%20Anal%C3%ADse%20de%20Algoritmos/Algoritmos/Dinamic_Programing.ipynb#X34sZmlsZQ%3D%3D?line=3'>4</a>\u001b[0m     \u001b[39mfor\u001b[39;00m i \u001b[39min\u001b[39;00m \u001b[39mrange\u001b[39m(\u001b[39mlen\u001b[39m(n)\u001b[39m-\u001b[39m\u001b[39m1\u001b[39m\u001b[39m-\u001b[39md):\n\u001b[1;32m----> <a href='vscode-notebook-cell:/d%3A/lucae/Documents/UFT/CCOMP/Projeto%20e%20Anal%C3%ADse%20de%20Algoritmos/Algoritmos/Dinamic_Programing.ipynb#X34sZmlsZQ%3D%3D?line=4'>5</a>\u001b[0m         \u001b[39mprint\u001b[39m(\u001b[39mf\u001b[39m\u001b[39m'\u001b[39m\u001b[39m{\u001b[39;00mi\u001b[39m}\u001b[39;00m\u001b[39m,\u001b[39m\u001b[39m{\u001b[39;00mj\u001b[39m}\u001b[39;00m\u001b[39m'\u001b[39m)\n\u001b[0;32m      <a href='vscode-notebook-cell:/d%3A/lucae/Documents/UFT/CCOMP/Projeto%20e%20Anal%C3%ADse%20de%20Algoritmos/Algoritmos/Dinamic_Programing.ipynb#X34sZmlsZQ%3D%3D?line=5'>6</a>\u001b[0m         j \u001b[39m=\u001b[39m i \u001b[39m+\u001b[39m d\n\u001b[0;32m      <a href='vscode-notebook-cell:/d%3A/lucae/Documents/UFT/CCOMP/Projeto%20e%20Anal%C3%ADse%20de%20Algoritmos/Algoritmos/Dinamic_Programing.ipynb#X34sZmlsZQ%3D%3D?line=6'>7</a>\u001b[0m         C[i,j] \u001b[39m=\u001b[39m \u001b[39mfloat\u001b[39m(\u001b[39m'\u001b[39m\u001b[39minf\u001b[39m\u001b[39m'\u001b[39m)\n",
      "\u001b[1;31mUnboundLocalError\u001b[0m: local variable 'j' referenced before assignment"
     ]
    }
   ],
   "source": [
    "Custo_Matrix_Produto((5,10,4,6,10,2))"
   ]
  },
  {
   "cell_type": "code",
   "execution_count": null,
   "metadata": {},
   "outputs": [],
   "source": []
  }
 ],
 "metadata": {
  "kernelspec": {
   "display_name": "Python 3",
   "language": "python",
   "name": "python3"
  },
  "language_info": {
   "codemirror_mode": {
    "name": "ipython",
    "version": 3
   },
   "file_extension": ".py",
   "mimetype": "text/x-python",
   "name": "python",
   "nbconvert_exporter": "python",
   "pygments_lexer": "ipython3",
   "version": "3.9.13"
  },
  "orig_nbformat": 4
 },
 "nbformat": 4,
 "nbformat_minor": 2
}
